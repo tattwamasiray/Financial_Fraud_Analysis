{
 "cells": [
  {
   "cell_type": "code",
   "execution_count": 22,
   "metadata": {},
   "outputs": [],
   "source": [
    "import pickle\n",
    "import sklearn\n",
    "import pandas as pd\n",
    "import numpy as np\n",
    "%matplotlib inline\n",
    "import matplotlib.pyplot as plt\n",
    "import matplotlib.lines as mlines\n",
    "import seaborn as sns\n",
    "from sklearn.model_selection import train_test_split, learning_curve\n",
    "from sklearn.metrics import average_precision_score\n",
    "import warnings\n",
    "from sklearn.ensemble import RandomForestClassifier\n",
    "warnings.filterwarnings(\"ignore\", category=DeprecationWarning)\n",
    "\n",
    "from pathlib import Path\n",
    "from sklearn.cluster import KMeans\n",
    "from sklearn.decomposition import PCA\n",
    "from sklearn.preprocessing import StandardScaler\n",
    "import pickle\n",
    "from sklearn.ensemble import RandomForestClassifier\n"
   ]
  },
  {
   "cell_type": "code",
   "execution_count": 23,
   "metadata": {},
   "outputs": [],
   "source": [
    "with open('model.pkl', 'rb') as model_file:\n",
    "    loaded_model = pickle.load(model_file)\n"
   ]
  },
  {
   "cell_type": "code",
   "execution_count": 24,
   "metadata": {},
   "outputs": [
    {
     "name": "stdout",
     "output_type": "stream",
     "text": [
      "<class 'sklearn.ensemble._forest.RandomForestClassifier'>\n"
     ]
    }
   ],
   "source": [
    "# View the model type\n",
    "print(type(loaded_model))\n",
    "\n",
    "# Print model summary or attributes (example for LinearRegression)\n",
    "if isinstance(loaded_model, sklearn.linear_model.LinearRegression):\n",
    "    print(\"Intercept:\", loaded_model.intercept_)\n",
    "    print(\"Coefficients:\", loaded_model.coef_)\n"
   ]
  },
  {
   "cell_type": "code",
   "execution_count": 25,
   "metadata": {},
   "outputs": [
    {
     "name": "stdout",
     "output_type": "stream",
     "text": [
      "RandomForestClassifier Model Summary:\n",
      "Number of Estimators: 100\n",
      "Maximum Depth: None\n",
      "Feature Importances:\n",
      "step: 0.0787\n",
      "amount: 0.0632\n",
      "oldbalanceOrg: 0.0982\n",
      "oldbalanceDest: 0.1627\n",
      "newbalanceDest: 0.1771\n",
      "hour: 0.0996\n",
      "day: 0.0652\n",
      "trans_weight: 0.1686\n",
      "type_CASH_OUT: 0.0316\n",
      "type_TRANSFER: 0.0257\n",
      "Destination: 0.0294\n"
     ]
    }
   ],
   "source": [
    "\n",
    "# Load the pickled model\n",
    "with open('model.pkl', 'rb') as model_file:\n",
    "    loaded_model = pickle.load(model_file)\n",
    "\n",
    "# Define the list of feature names\n",
    "feature_names = ['step', 'amount', 'oldbalanceOrg', 'oldbalanceDest', 'newbalanceDest',\n",
    "       'hour', 'day', 'trans_weight', 'type_CASH_OUT', 'type_TRANSFER',\n",
    "       'Destination']\n",
    "\n",
    "# Check if the loaded model is a RandomForestClassifier\n",
    "if isinstance(loaded_model, RandomForestClassifier):\n",
    "    n_estimators = loaded_model.n_estimators\n",
    "    max_depth = loaded_model.max_depth\n",
    "    feature_importances = loaded_model.feature_importances_\n",
    "\n",
    "    print(\"RandomForestClassifier Model Summary:\")\n",
    "    print(f\"Number of Estimators: {n_estimators}\")\n",
    "    print(f\"Maximum Depth: {max_depth}\")\n",
    "    print(\"Feature Importances:\")\n",
    "    for feature_name, importance in zip(feature_names, feature_importances):\n",
    "        print(f\"{feature_name}: {importance:.4f}\")\n",
    "else:\n",
    "    print(\"Loaded model is not a RandomForestClassifier.\")"
   ]
  }
 ],
 "metadata": {
  "kernelspec": {
   "display_name": "dev",
   "language": "python",
   "name": "python3"
  },
  "language_info": {
   "codemirror_mode": {
    "name": "ipython",
    "version": 3
   },
   "file_extension": ".py",
   "mimetype": "text/x-python",
   "name": "python",
   "nbconvert_exporter": "python",
   "pygments_lexer": "ipython3",
   "version": "3.10.9"
  },
  "orig_nbformat": 4
 },
 "nbformat": 4,
 "nbformat_minor": 2
}
