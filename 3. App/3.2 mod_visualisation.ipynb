{
 "cells": [
  {
   "cell_type": "code",
   "execution_count": 2,
   "metadata": {},
   "outputs": [
    {
     "ename": "NotFittedError",
     "evalue": "This RandomForestClassifier instance is not fitted yet. Call 'fit' with appropriate arguments before using this estimator.",
     "output_type": "error",
     "traceback": [
      "\u001b[1;31m---------------------------------------------------------------------------\u001b[0m",
      "\u001b[1;31mNotFittedError\u001b[0m                            Traceback (most recent call last)",
      "Cell \u001b[1;32mIn[2], line 13\u001b[0m\n\u001b[0;32m     10\u001b[0m \u001b[39m# Assuming you have a trained RandomForestClassifier model\u001b[39;00m\n\u001b[0;32m     11\u001b[0m \u001b[39mif\u001b[39;00m \u001b[39misinstance\u001b[39m(model, RandomForestClassifier):\n\u001b[0;32m     12\u001b[0m     \u001b[39m# Get feature importances\u001b[39;00m\n\u001b[1;32m---> 13\u001b[0m     feature_importances \u001b[39m=\u001b[39m model\u001b[39m.\u001b[39;49mfeature_importances_\n\u001b[0;32m     14\u001b[0m     feature_names \u001b[39m=\u001b[39m [\u001b[39m'\u001b[39m\u001b[39mstep\u001b[39m\u001b[39m'\u001b[39m,\n\u001b[0;32m     15\u001b[0m  \u001b[39m'\u001b[39m\u001b[39mamount\u001b[39m\u001b[39m'\u001b[39m,\n\u001b[0;32m     16\u001b[0m  \u001b[39m'\u001b[39m\u001b[39moldbalanceOrg\u001b[39m\u001b[39m'\u001b[39m,\n\u001b[1;32m   (...)\u001b[0m\n\u001b[0;32m     23\u001b[0m  \u001b[39m'\u001b[39m\u001b[39mtype_TRANSFER\u001b[39m\u001b[39m'\u001b[39m,\n\u001b[0;32m     24\u001b[0m  \u001b[39m'\u001b[39m\u001b[39mDestination\u001b[39m\u001b[39m'\u001b[39m] \u001b[39m# Replace with your feature names\u001b[39;00m\n\u001b[0;32m     26\u001b[0m     \u001b[39m# Sort indices of features by importance\u001b[39;00m\n",
      "File \u001b[1;32mc:\\Users\\Micah\\anaconda3_1\\envs\\dev\\lib\\site-packages\\sklearn\\ensemble\\_forest.py:628\u001b[0m, in \u001b[0;36mBaseForest.feature_importances_\u001b[1;34m(self)\u001b[0m\n\u001b[0;32m    607\u001b[0m \u001b[39m@property\u001b[39m\n\u001b[0;32m    608\u001b[0m \u001b[39mdef\u001b[39;00m \u001b[39mfeature_importances_\u001b[39m(\u001b[39mself\u001b[39m):\n\u001b[0;32m    609\u001b[0m     \u001b[39m\"\"\"\u001b[39;00m\n\u001b[0;32m    610\u001b[0m \u001b[39m    The impurity-based feature importances.\u001b[39;00m\n\u001b[0;32m    611\u001b[0m \n\u001b[1;32m   (...)\u001b[0m\n\u001b[0;32m    626\u001b[0m \u001b[39m        array of zeros.\u001b[39;00m\n\u001b[0;32m    627\u001b[0m \u001b[39m    \"\"\"\u001b[39;00m\n\u001b[1;32m--> 628\u001b[0m     check_is_fitted(\u001b[39mself\u001b[39;49m)\n\u001b[0;32m    630\u001b[0m     all_importances \u001b[39m=\u001b[39m Parallel(n_jobs\u001b[39m=\u001b[39m\u001b[39mself\u001b[39m\u001b[39m.\u001b[39mn_jobs, prefer\u001b[39m=\u001b[39m\u001b[39m\"\u001b[39m\u001b[39mthreads\u001b[39m\u001b[39m\"\u001b[39m)(\n\u001b[0;32m    631\u001b[0m         delayed(\u001b[39mgetattr\u001b[39m)(tree, \u001b[39m\"\u001b[39m\u001b[39mfeature_importances_\u001b[39m\u001b[39m\"\u001b[39m)\n\u001b[0;32m    632\u001b[0m         \u001b[39mfor\u001b[39;00m tree \u001b[39min\u001b[39;00m \u001b[39mself\u001b[39m\u001b[39m.\u001b[39mestimators_\n\u001b[0;32m    633\u001b[0m         \u001b[39mif\u001b[39;00m tree\u001b[39m.\u001b[39mtree_\u001b[39m.\u001b[39mnode_count \u001b[39m>\u001b[39m \u001b[39m1\u001b[39m\n\u001b[0;32m    634\u001b[0m     )\n\u001b[0;32m    636\u001b[0m     \u001b[39mif\u001b[39;00m \u001b[39mnot\u001b[39;00m all_importances:\n",
      "File \u001b[1;32mc:\\Users\\Micah\\anaconda3_1\\envs\\dev\\lib\\site-packages\\sklearn\\utils\\validation.py:1390\u001b[0m, in \u001b[0;36mcheck_is_fitted\u001b[1;34m(estimator, attributes, msg, all_or_any)\u001b[0m\n\u001b[0;32m   1385\u001b[0m     fitted \u001b[39m=\u001b[39m [\n\u001b[0;32m   1386\u001b[0m         v \u001b[39mfor\u001b[39;00m v \u001b[39min\u001b[39;00m \u001b[39mvars\u001b[39m(estimator) \u001b[39mif\u001b[39;00m v\u001b[39m.\u001b[39mendswith(\u001b[39m\"\u001b[39m\u001b[39m_\u001b[39m\u001b[39m\"\u001b[39m) \u001b[39mand\u001b[39;00m \u001b[39mnot\u001b[39;00m v\u001b[39m.\u001b[39mstartswith(\u001b[39m\"\u001b[39m\u001b[39m__\u001b[39m\u001b[39m\"\u001b[39m)\n\u001b[0;32m   1387\u001b[0m     ]\n\u001b[0;32m   1389\u001b[0m \u001b[39mif\u001b[39;00m \u001b[39mnot\u001b[39;00m fitted:\n\u001b[1;32m-> 1390\u001b[0m     \u001b[39mraise\u001b[39;00m NotFittedError(msg \u001b[39m%\u001b[39m {\u001b[39m\"\u001b[39m\u001b[39mname\u001b[39m\u001b[39m\"\u001b[39m: \u001b[39mtype\u001b[39m(estimator)\u001b[39m.\u001b[39m\u001b[39m__name__\u001b[39m})\n",
      "\u001b[1;31mNotFittedError\u001b[0m: This RandomForestClassifier instance is not fitted yet. Call 'fit' with appropriate arguments before using this estimator."
     ]
    }
   ],
   "source": [
    "import pickle\n",
    "import matplotlib.pyplot as plt\n",
    "import numpy as np\n",
    "from sklearn.ensemble import RandomForestClassifier\n",
    "\n",
    "# Load the model from the pickle file\n",
    "with open('model.pickle', 'rb') as file:\n",
    "    model = pickle.load(file)\n",
    "\n",
    "# Assuming you have a trained RandomForestClassifier model\n",
    "if isinstance(model, RandomForestClassifier):\n",
    "    # Get feature importances\n",
    "    feature_importances = model.feature_importances_\n",
    "    feature_names = ['step',\n",
    " 'amount',\n",
    " 'oldbalanceOrg',\n",
    " 'oldbalanceDest',\n",
    " 'newbalanceDest',\n",
    " 'hour',\n",
    " 'day',\n",
    " 'trans_weight',\n",
    " 'type_CASH_OUT',\n",
    " 'type_TRANSFER',\n",
    " 'Destination'] # Replace with your feature names\n",
    "\n",
    "    # Sort indices of features by importance\n",
    "    sorted_indices = np.argsort(feature_importances)\n",
    "\n",
    "    # Plot feature importances\n",
    "    plt.figure(figsize=(10, 6))\n",
    "    plt.barh(range(len(feature_importances)), feature_importances[sorted_indices], align='center')\n",
    "    plt.yticks(range(len(feature_importances)), np.array(feature_names)[sorted_indices])\n",
    "    plt.xlabel('Feature Importance')\n",
    "    plt.ylabel('Feature')\n",
    "    plt.title('Random Forest Feature Importances')\n",
    "    plt.show()\n",
    "else:\n",
    "    print(\"The loaded model is not a RandomForestClassifier.\")\n"
   ]
  }
 ],
 "metadata": {
  "kernelspec": {
   "display_name": "dev",
   "language": "python",
   "name": "python3"
  },
  "language_info": {
   "codemirror_mode": {
    "name": "ipython",
    "version": 3
   },
   "file_extension": ".py",
   "mimetype": "text/x-python",
   "name": "python",
   "nbconvert_exporter": "python",
   "pygments_lexer": "ipython3",
   "version": "3.10.9"
  },
  "orig_nbformat": 4
 },
 "nbformat": 4,
 "nbformat_minor": 2
}
